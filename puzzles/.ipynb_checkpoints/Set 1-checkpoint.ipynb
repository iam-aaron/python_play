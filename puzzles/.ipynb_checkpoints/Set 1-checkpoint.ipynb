{
 "cells": [
  {
   "cell_type": "markdown",
   "id": "3b754a43-8578-4f30-9968-a9d077fbde9e",
   "metadata": {},
   "source": [
    "# Set 1 of Python Exercises\n",
    "<a href=\"# Source: https://www.w3resource.com/python-exercises/puzzles/index.php\"> https://www.w3resource.com/python-exercises/puzzles/index.php </a>"
   ]
  },
  {
   "cell_type": "markdown",
   "id": "c8b80572-c479-41f4-ac59-c5a8bc6796a2",
   "metadata": {
    "tags": []
   },
   "source": [
    "## EXER 1\n",
    "Write a Python program to find a list of integers with exactly two occurrences of nineteen and at least three occurrences of five. Return True otherwise False\n"
   ]
  },
  {
   "cell_type": "code",
   "execution_count": 5,
   "id": "72cbaf1f-8096-4128-b5eb-9ffdacd4968b",
   "metadata": {
    "tags": []
   },
   "outputs": [
    {
     "name": "stdout",
     "output_type": "stream",
     "text": [
      "False\n"
     ]
    }
   ],
   "source": [
    "def isValidForExer1(arr):\n",
    "    return arr.count(19) == 2 and arr.count(5) >= 3\n",
    "\n",
    "array_input = [19, 20, 15, 5, 3, 6, 7, 2]\n",
    "res = isValidForExer1(array_input)\n",
    "\n",
    "print(res)"
   ]
  },
  {
   "cell_type": "markdown",
   "id": "1942bf05-d859-4f22-8d52-2723fd0274ee",
   "metadata": {},
   "source": [
    "## EXER 2\n",
    "Write a Python program that accepts a list of integers and calculates the length and the fifth element. Return true if the length of the list is 8 and the fifth element occurs thrice in the said list."
   ]
  },
  {
   "cell_type": "code",
   "execution_count": 7,
   "id": "4d0b787d-94db-4d68-88f0-cf809737cf8c",
   "metadata": {
    "tags": []
   },
   "outputs": [
    {
     "name": "stdout",
     "output_type": "stream",
     "text": [
      "True\n"
     ]
    }
   ],
   "source": [
    "def isValidForExer2(arr):\n",
    "    return len(arr) == 8 and arr.count(arr[4]) == 3\n",
    "\n",
    "array_input = [11, 12, 14, 13, 14, 13, 15, 14]\n",
    "res = isValidForExer2(array_input)\n",
    "\n",
    "print(res)\n"
   ]
  },
  {
   "cell_type": "markdown",
   "id": "a3d86470-cd69-43f1-9746-42ce8f280aa5",
   "metadata": {},
   "source": [
    "## EXER 3\n",
    "We are making n stone piles! The first pile has n stones. If n is even, then all piles have an even number of stones. If n is odd, all piles have an odd number of stones. Each pile must more stones than the previous pile but as few as possible. Write a Python program to find the number of stones in each pile.\n"
   ]
  },
  {
   "cell_type": "code",
   "execution_count": 8,
   "id": "bed454f7-9baa-4578-8e2f-48840c5c774e",
   "metadata": {
    "tags": []
   },
   "outputs": [
    {
     "name": "stdout",
     "output_type": "stream",
     "text": [
      "[10, 12, 14, 16, 18, 20, 22, 24, 26, 28]\n"
     ]
    }
   ],
   "source": [
    "def makeStonePileExer3(ph):\n",
    "    return [ph+(iter*2) for iter in range(ph)]\n",
    "\n",
    "pileHeight = 10\n",
    "res = makeStonePileExer3(pileHeight)\n",
    "print(res)"
   ]
  },
  {
   "cell_type": "code",
   "execution_count": null,
   "id": "c94acecb-778b-41dd-85c2-ae697cb2d063",
   "metadata": {},
   "outputs": [],
   "source": []
  }
 ],
 "metadata": {
  "kernelspec": {
   "display_name": "Python 3 (ipykernel)",
   "language": "python",
   "name": "python3"
  },
  "language_info": {
   "codemirror_mode": {
    "name": "ipython",
    "version": 3
   },
   "file_extension": ".py",
   "mimetype": "text/x-python",
   "name": "python",
   "nbconvert_exporter": "python",
   "pygments_lexer": "ipython3",
   "version": "3.9.6"
  }
 },
 "nbformat": 4,
 "nbformat_minor": 5
}
